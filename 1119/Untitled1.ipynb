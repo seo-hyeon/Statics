{
 "cells": [
  {
   "cell_type": "markdown",
   "metadata": {},
   "source": [
    "# 일표본 과제 (Python)"
   ]
  },
  {
   "cell_type": "markdown",
   "metadata": {},
   "source": [
    "## 일표본 t-검정"
   ]
  },
  {
   "cell_type": "code",
   "execution_count": 1,
   "metadata": {},
   "outputs": [],
   "source": [
    "import os\n",
    "%matplotlib inline\n",
    "import numpy as np\n",
    "np.set_printoptions(suppress=True)\n",
    "import pandas as pd\n",
    "import matplotlib.pyplot as plt\n",
    "import seaborn as sns"
   ]
  },
  {
   "cell_type": "code",
   "execution_count": 2,
   "metadata": {},
   "outputs": [],
   "source": [
    "from scipy import stats\n",
    "import sys\n",
    "import scipy"
   ]
  },
  {
   "cell_type": "code",
   "execution_count": 3,
   "metadata": {},
   "outputs": [],
   "source": [
    "## 신뢰구간\n",
    "def mean_confidence_interval(data, confidence=0.95):\n",
    "       a = 1.0*np.array(data)\n",
    "       n = len(a)\n",
    "       m, se = np.mean(a), scipy.stats.sem(a)\n",
    "       h = se * scipy.stats.t._ppf((1+confidence)/2., n-1)\n",
    "       return m, m-h, m+h"
   ]
  },
  {
   "cell_type": "markdown",
   "metadata": {},
   "source": [
    "## 모기 흡혈 시간\n",
    "\n",
    "* Case 3.6 A mosquito's Feast 180sec"
   ]
  },
  {
   "cell_type": "markdown",
   "metadata": {},
   "source": [
    "#### 가설\n",
    "- H0: 흡혈시간 <= 180\n",
    "- H1: 흡혈시간 > 180"
   ]
  },
  {
   "cell_type": "code",
   "execution_count": 4,
   "metadata": {},
   "outputs": [
    {
     "data": {
      "text/plain": [
       "0    176.0\n",
       "1    202.9\n",
       "2    315.0\n",
       "3    374.6\n",
       "4    352.5\n",
       "dtype: float64"
      ]
     },
     "execution_count": 4,
     "metadata": {},
     "output_type": "execute_result"
    }
   ],
   "source": [
    "mos = pd.Series([176.0, 202.9, 315.0, 374.6, 352.5])\n",
    "mos"
   ]
  },
  {
   "cell_type": "code",
   "execution_count": 5,
   "metadata": {},
   "outputs": [
    {
     "data": {
      "text/plain": [
       "count      5.00000\n",
       "mean     284.20000\n",
       "std       89.58602\n",
       "min      176.00000\n",
       "25%      202.90000\n",
       "50%      315.00000\n",
       "75%      352.50000\n",
       "max      374.60000\n",
       "dtype: float64"
      ]
     },
     "execution_count": 5,
     "metadata": {},
     "output_type": "execute_result"
    }
   ],
   "source": [
    "mos.describe()"
   ]
  },
  {
   "cell_type": "markdown",
   "metadata": {},
   "source": [
    "#### 기초통계량\n",
    "- n = 5\n",
    "- 표본평균: 284\n",
    "- 표준편차: 89"
   ]
  },
  {
   "cell_type": "code",
   "execution_count": 6,
   "metadata": {},
   "outputs": [
    {
     "data": {
      "text/plain": [
       "<function matplotlib.pyplot.show(*args, **kw)>"
      ]
     },
     "execution_count": 6,
     "metadata": {},
     "output_type": "execute_result"
    },
    {
     "data": {
      "image/png": "[encoded data removed]",
      "text/plain": [
       "<Figure size 432x288 with 1 Axes>"
      ]
     },
     "metadata": {
      "needs_background": "light"
     },
     "output_type": "display_data"
    }
   ],
   "source": [
    "sns.boxplot(x=mos);\n",
    "plt.show"
   ]
  },
  {
   "cell_type": "code",
   "execution_count": 7,
   "metadata": {},
   "outputs": [
    {
     "data": {
      "text/plain": [
       "Ttest_1sampResult(statistic=2.60083306476879, pvalue=0.05999551309669599)"
      ]
     },
     "execution_count": 7,
     "metadata": {},
     "output_type": "execute_result"
    }
   ],
   "source": [
    "scipy.stats.ttest_1samp(mos, 180)"
   ]
  },
  {
   "cell_type": "markdown",
   "metadata": {},
   "source": [
    "결론: pvalue=0.06 > 유의수준 0.05이므로 모평균이 180초보다 크다."
   ]
  },
  {
   "cell_type": "markdown",
   "metadata": {},
   "source": [
    "## 아마딜로 수면시간\n",
    "\n",
    "* Case 3.8 Armadillos 19hrs"
   ]
  },
  {
   "cell_type": "markdown",
   "metadata": {},
   "source": [
    "#### 가설\n",
    "- H0: 수면시간 <= 19\n",
    "- H1: 수면시간 > 19"
   ]
  },
  {
   "cell_type": "code",
   "execution_count": 8,
   "metadata": {},
   "outputs": [
    {
     "data": {
      "text/plain": [
       "0    17.4\n",
       "1    18.5\n",
       "2    20.0\n",
       "3    16.1\n",
       "4    15.3\n",
       "5    17.2\n",
       "dtype: float64"
      ]
     },
     "execution_count": 8,
     "metadata": {},
     "output_type": "execute_result"
    }
   ],
   "source": [
    "arm = pd.Series([17.4, 18.5, 20.0, 16.1, 15.3, 17.2])\n",
    "arm"
   ]
  },
  {
   "cell_type": "code",
   "execution_count": 9,
   "metadata": {},
   "outputs": [
    {
     "data": {
      "text/plain": [
       "count     6.000000\n",
       "mean     17.416667\n",
       "std       1.679782\n",
       "min      15.300000\n",
       "25%      16.375000\n",
       "50%      17.300000\n",
       "75%      18.225000\n",
       "max      20.000000\n",
       "dtype: float64"
      ]
     },
     "execution_count": 9,
     "metadata": {},
     "output_type": "execute_result"
    }
   ],
   "source": [
    "arm.describe()"
   ]
  },
  {
   "cell_type": "markdown",
   "metadata": {},
   "source": [
    "#### 기초통계량\n",
    "- n = 6\n",
    "- 표본평균: 17.4\n",
    "- 표준편차: 1.6"
   ]
  },
  {
   "cell_type": "code",
   "execution_count": 10,
   "metadata": {},
   "outputs": [
    {
     "data": {
      "text/plain": [
       "<function matplotlib.pyplot.show(*args, **kw)>"
      ]
     },
     "execution_count": 10,
     "metadata": {},
     "output_type": "execute_result"
    },
    {
     "data": {
      "image/png": "[encoded data removed]",
      "text/plain": [
       "<Figure size 432x288 with 1 Axes>"
      ]
     },
     "metadata": {
      "needs_background": "light"
     },
     "output_type": "display_data"
    }
   ],
   "source": [
    "sns.boxplot(x=arm);\n",
    "plt.show"
   ]
  },
  {
   "cell_type": "code",
   "execution_count": 11,
   "metadata": {},
   "outputs": [
    {
     "data": {
      "text/plain": [
       "Ttest_1sampResult(statistic=-2.3088468494824483, pvalue=0.06900644482742593)"
      ]
     },
     "execution_count": 11,
     "metadata": {},
     "output_type": "execute_result"
    }
   ],
   "source": [
    "scipy.stats.ttest_1samp(arm, 19)"
   ]
  },
  {
   "cell_type": "markdown",
   "metadata": {},
   "source": [
    "결론: pvalue=0.07 > 유의수준 0.05이므로 H1기각. 수면시간은 19시간보다 작거나 같다."
   ]
  },
  {
   "cell_type": "code",
   "execution_count": 12,
   "metadata": {},
   "outputs": [
    {
     "data": {
      "text/plain": [
       "(17.416666666666668, 15.653843849343081, 19.179489483990253)"
      ]
     },
     "execution_count": 12,
     "metadata": {},
     "output_type": "execute_result"
    }
   ],
   "source": [
    "mean_confidence_interval(arm)"
   ]
  },
  {
   "cell_type": "markdown",
   "metadata": {},
   "source": [
    "신뢰구간은 (15.65, 19.18)이다."
   ]
  },
  {
   "cell_type": "markdown",
   "metadata": {},
   "source": [
    "### 황금비율은 본능적?\n",
    "\n",
    "* Case 9.3 황금사각형 0.618 w/l=l/(w+l)\n",
    "* 황금비율: 사각형은 가로세로비가 0.618일 때 미학적으로 가장 좋다고 한다."
   ]
  },
  {
   "cell_type": "markdown",
   "metadata": {},
   "source": [
    "#### 가설\n",
    "- H0: 비율 <= 0.618\n",
    "- H1: 비율 > 0.618"
   ]
  },
  {
   "cell_type": "code",
   "execution_count": 13,
   "metadata": {},
   "outputs": [
    {
     "data": {
      "text/plain": [
       "0    0.693\n",
       "1    0.628\n",
       "2    0.576\n",
       "3    0.662\n",
       "4    0.609\n",
       "dtype: float64"
      ]
     },
     "execution_count": 13,
     "metadata": {},
     "output_type": "execute_result"
    }
   ],
   "source": [
    "ratio = pd.Series([0.693, 0.628, 0.576, 0.662, 0.609, 0.670, 0.690, 0.844, 0.606, 0.606, 0.654, 0.611, 0.570, 0.615, 0.553, 0.749, 0.668, 0.933, 0.672, 0.601])\n",
    "ratio.head()"
   ]
  },
  {
   "cell_type": "code",
   "execution_count": 14,
   "metadata": {},
   "outputs": [
    {
     "data": {
      "text/plain": [
       "count    20.000000\n",
       "mean      0.660500\n",
       "std       0.092511\n",
       "min       0.553000\n",
       "25%       0.606000\n",
       "50%       0.641000\n",
       "75%       0.676500\n",
       "max       0.933000\n",
       "dtype: float64"
      ]
     },
     "execution_count": 14,
     "metadata": {},
     "output_type": "execute_result"
    }
   ],
   "source": [
    "ratio.describe()"
   ]
  },
  {
   "cell_type": "markdown",
   "metadata": {},
   "source": [
    "#### 기초통계량\n",
    "- n = 20\n",
    "- 표본평균: 0.66\n",
    "- 표준편차: 0.09"
   ]
  },
  {
   "cell_type": "code",
   "execution_count": 15,
   "metadata": {},
   "outputs": [
    {
     "data": {
      "text/plain": [
       "<function matplotlib.pyplot.show(*args, **kw)>"
      ]
     },
     "execution_count": 15,
     "metadata": {},
     "output_type": "execute_result"
    },
    {
     "data": {
      "image/png": "[encoded data removed]",
      "text/plain": [
       "<Figure size 432x288 with 1 Axes>"
      ]
     },
     "metadata": {
      "needs_background": "light"
     },
     "output_type": "display_data"
    }
   ],
   "source": [
    "sns.boxplot(x=ratio);\n",
    "plt.show"
   ]
  },
  {
   "cell_type": "code",
   "execution_count": 16,
   "metadata": {},
   "outputs": [
    {
     "data": {
      "text/plain": [
       "Ttest_1sampResult(statistic=2.0545234833761556, pvalue=0.05394132733308773)"
      ]
     },
     "execution_count": 16,
     "metadata": {},
     "output_type": "execute_result"
    }
   ],
   "source": [
    "scipy.stats.ttest_1samp(ratio, 0.618)"
   ]
  },
  {
   "cell_type": "markdown",
   "metadata": {},
   "source": [
    "결론: pvalue=0.053 > 유의수준 0.05이므로 H1기각. 비율은 황금비율보다 작다."
   ]
  },
  {
   "cell_type": "code",
   "execution_count": 17,
   "metadata": {},
   "outputs": [
    {
     "data": {
      "text/plain": [
       "(0.6604999999999999, 0.6172035748035473, 0.7037964251964525)"
      ]
     },
     "execution_count": 17,
     "metadata": {},
     "output_type": "execute_result"
    }
   ],
   "source": [
    "mean_confidence_interval(ratio)"
   ]
  },
  {
   "cell_type": "markdown",
   "metadata": {},
   "source": [
    "신뢰구간은 (0.62, 0.70)이다."
   ]
  },
  {
   "cell_type": "markdown",
   "metadata": {},
   "source": [
    "## Toxic Tort\n",
    "\n",
    "* Case Study 2.1: Toxic Tort 독성물질 피해자 소송"
   ]
  },
  {
   "cell_type": "markdown",
   "metadata": {},
   "source": [
    "#### 가설\n",
    "- H0: 호흡능력 < 0.8 정상인보다 악화되었다.\n",
    "- H1: 호흡능력 >= 0.8 정상인과 다름없다."
   ]
  },
  {
   "cell_type": "code",
   "execution_count": 18,
   "metadata": {},
   "outputs": [
    {
     "data": {
      "text/plain": [
       "0    0.61\n",
       "1    0.70\n",
       "2    0.63\n",
       "3    0.76\n",
       "4    0.67\n",
       "dtype: float64"
      ]
     },
     "execution_count": 18,
     "metadata": {},
     "output_type": "execute_result"
    }
   ],
   "source": [
    "toxic = pd.Series([0.61, 0.70, 0.63, 0.76, 0.67, 0.72, 0.64, 0.82, 0.88, 0.82, 0.78, 0.84, 0.83, 0.82, 0.74, 0.85, 0.73, 0.85, 0.87])\n",
    "toxic.head()"
   ]
  },
  {
   "cell_type": "code",
   "execution_count": 19,
   "metadata": {},
   "outputs": [
    {
     "data": {
      "text/plain": [
       "count    19.000000\n",
       "mean      0.766316\n",
       "std       0.085908\n",
       "min       0.610000\n",
       "25%       0.710000\n",
       "50%       0.780000\n",
       "75%       0.835000\n",
       "max       0.880000\n",
       "dtype: float64"
      ]
     },
     "execution_count": 19,
     "metadata": {},
     "output_type": "execute_result"
    }
   ],
   "source": [
    "toxic.describe()"
   ]
  },
  {
   "cell_type": "markdown",
   "metadata": {},
   "source": [
    "#### 기초통계량\n",
    "- n = 19\n",
    "- 표본평균: 0.77\n",
    "- 표준편차: 0.09"
   ]
  },
  {
   "cell_type": "code",
   "execution_count": 20,
   "metadata": {},
   "outputs": [
    {
     "data": {
      "text/plain": [
       "<function matplotlib.pyplot.show(*args, **kw)>"
      ]
     },
     "execution_count": 20,
     "metadata": {},
     "output_type": "execute_result"
    },
    {
     "data": {
      "image/png": "[encoded data removed]",
      "text/plain": [
       "<Figure size 432x288 with 1 Axes>"
      ]
     },
     "metadata": {
      "needs_background": "light"
     },
     "output_type": "display_data"
    }
   ],
   "source": [
    "sns.boxplot(x=toxic);\n",
    "plt.show"
   ]
  },
  {
   "cell_type": "code",
   "execution_count": 21,
   "metadata": {},
   "outputs": [
    {
     "data": {
      "text/plain": [
       "Ttest_1sampResult(statistic=-1.7091160447777254, pvalue=0.10461391019983837)"
      ]
     },
     "execution_count": 21,
     "metadata": {},
     "output_type": "execute_result"
    }
   ],
   "source": [
    "scipy.stats.ttest_1samp(toxic, 0.8)"
   ]
  },
  {
   "cell_type": "markdown",
   "metadata": {},
   "source": [
    "결론: pvalue=0.1046 > 유의수준 0.05이므로 H0기각. 정상인과 다름없다."
   ]
  },
  {
   "cell_type": "markdown",
   "metadata": {},
   "source": [
    "## 일표본 모비율 z-검정"
   ]
  },
  {
   "cell_type": "code",
   "execution_count": 22,
   "metadata": {},
   "outputs": [],
   "source": [
    "def onesamplez(n, mean, sigma, mu=0, alt='two', conf_level=0.95):\n",
    "    import scipy\n",
    "    sem = sigma/np.sqrt(n)\n",
    "    zstat = (mean-mu)/sem\n",
    "    alpha = 1-conf_level\n",
    "    \n",
    "    if alt=='less':\n",
    "        pval = scipy.stats.norm.cdf(zstat)\n",
    "        H1 = ''\n",
    "        \n",
    "    if alt=='less':\n",
    "        pval= scipy.stats.norm.cdf(zstat)\n",
    "        H1 = 'H1:mu<'+str(mu)\n",
    "    elif alt=='greater':\n",
    "        pval=1-scipy.stats.norm.cdf(zstat)\n",
    "        H1 = 'H1:mu>'+str(mu)\n",
    "    else:\n",
    "        pval=2*scipy.stats.norm.cdf(-abs(zstat))\n",
    "        H1 = 'H1:mu<>'+str(mu)\n",
    "\n",
    "    me = scipy.stats.norm.ppf(1-alpha/2)*sem\n",
    "    lb = mean - me\n",
    "    ub = mean + me\n",
    "    \n",
    "    return pd.DataFrame(\n",
    "            [[n, mean, sigma, sem, zstat, pval, me, lb, ub, alpha]],\n",
    "            columns=['n','mean','sigma',' sem','zstat','pval','me','lb','ub','alpha'],index=[H1])"
   ]
  },
  {
   "cell_type": "markdown",
   "metadata": {},
   "source": [
    "## 대통령 지지율"
   ]
  },
  {
   "cell_type": "code",
   "execution_count": 23,
   "metadata": {},
   "outputs": [
    {
     "data": {
      "text/html": [
       "<div>\n",
       "<style scoped>\n",
       "    .dataframe tbody tr th:only-of-type {\n",
       "        vertical-align: middle;\n",
       "    }\n",
       "\n",
       "    .dataframe tbody tr th {\n",
       "        vertical-align: top;\n",
       "    }\n",
       "\n",
       "    .dataframe thead th {\n",
       "        text-align: right;\n",
       "    }\n",
       "</style>\n",
       "<table border=\"1\" class=\"dataframe\">\n",
       "  <thead>\n",
       "    <tr style=\"text-align: right;\">\n",
       "      <th></th>\n",
       "      <th>n</th>\n",
       "      <th>mean</th>\n",
       "      <th>sigma</th>\n",
       "      <th>sem</th>\n",
       "      <th>zstat</th>\n",
       "      <th>pval</th>\n",
       "      <th>me</th>\n",
       "      <th>lb</th>\n",
       "      <th>ub</th>\n",
       "      <th>alpha</th>\n",
       "    </tr>\n",
       "  </thead>\n",
       "  <tbody>\n",
       "    <tr>\n",
       "      <td>H1:mu&lt;&gt;0</td>\n",
       "      <td>2536</td>\n",
       "      <td>2888504</td>\n",
       "      <td>4035240088</td>\n",
       "      <td>8.012993e+07</td>\n",
       "      <td>0.036048</td>\n",
       "      <td>0.971244</td>\n",
       "      <td>1.570518e+08</td>\n",
       "      <td>-1.541633e+08</td>\n",
       "      <td>1.599403e+08</td>\n",
       "      <td>0.05</td>\n",
       "    </tr>\n",
       "  </tbody>\n",
       "</table>\n",
       "</div>"
      ],
      "text/plain": [
       "             n     mean       sigma           sem     zstat      pval  \\\n",
       "H1:mu<>0  2536  2888504  4035240088  8.012993e+07  0.036048  0.971244   \n",
       "\n",
       "                    me            lb            ub  alpha  \n",
       "H1:mu<>0  1.570518e+08 -1.541633e+08  1.599403e+08   0.05  "
      ]
     },
     "execution_count": 23,
     "metadata": {},
     "output_type": "execute_result"
    }
   ],
   "source": [
    "onesamplez(2536, 2536 * 1139, 2536 * 1139 * (2536-1139))"
   ]
  },
  {
   "cell_type": "markdown",
   "metadata": {},
   "source": [
    "지지율은 0.036으로 지난 조사때보다 감소했다. 신뢰구간은 (-1.541633e+08, 1.599403e+08)이다."
   ]
  }
 ],
 "metadata": {
  "kernelspec": {
   "display_name": "Python 3",
   "language": "python",
   "name": "python3"
  },
  "language_info": {
   "codemirror_mode": {
    "name": "ipython",
    "version": 3
   },
   "file_extension": ".py",
   "mimetype": "text/x-python",
   "name": "python",
   "nbconvert_exporter": "python",
   "pygments_lexer": "ipython3",
   "version": "3.7.4"
  }
 },
 "nbformat": 4,
 "nbformat_minor": 2
}
