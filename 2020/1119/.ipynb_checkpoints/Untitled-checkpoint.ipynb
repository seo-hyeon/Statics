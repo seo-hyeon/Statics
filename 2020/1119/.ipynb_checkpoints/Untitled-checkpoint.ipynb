{
 "cells": [
  {
   "cell_type": "markdown",
   "metadata": {},
   "source": [
    "## 일표본 z-검정(Python) 예제"
   ]
  },
  {
   "cell_type": "code",
   "execution_count": 3,
   "metadata": {},
   "outputs": [],
   "source": [
    "import os\n",
    "%matplotlib inline\n",
    "import numpy as np\n",
    "np.set_printoptions(suppress=True)\n",
    "import pandas as pd\n",
    "import matplotlib.pyplot as plt\n",
    "import seaborn as sns"
   ]
  },
  {
   "cell_type": "code",
   "execution_count": 5,
   "metadata": {},
   "outputs": [],
   "source": [
    "from scipy import stats\n",
    "import sys\n",
    "import scipy"
   ]
  },
  {
   "cell_type": "code",
   "execution_count": null,
   "metadata": {},
   "outputs": [],
   "source": []
  },
  {
   "cell_type": "code",
   "execution_count": 7,
   "metadata": {},
   "outputs": [],
   "source": [
    "mu = 75 #뮤 H0: 뮤 >= 75\n",
    "n = 100 #개수\n",
    "xmean = 73.5 #표본평균\n",
    "sigma = 9.4 #모분산\n",
    "sem = sigma/np.sqrt(n) #표준오차\n",
    "zstat = (xmean-mu)/sem #z통계량\n",
    "pval = scipy.stats.norm.cdf(-abs(zstat)) #p-value\n",
    "alpha = 0.05 #\n",
    "zq = np.abs(scipy.stats.norm.ppf(alpha/2))\n",
    "me = zq*sem #오차한계\n",
    "lb = xmean - me\n",
    "ub = xmean + me"
   ]
  },
  {
   "cell_type": "code",
   "execution_count": 8,
   "metadata": {},
   "outputs": [
    {
     "data": {
      "text/plain": [
       "array([100.    ,  73.5   ,   9.4   ,   0.94  ,  -1.5957,   0.0553])"
      ]
     },
     "execution_count": 8,
     "metadata": {},
     "output_type": "execute_result"
    }
   ],
   "source": [
    "np.round([n, xmean, sigma, sem, zstat, pval], 4)"
   ]
  },
  {
   "cell_type": "code",
   "execution_count": 9,
   "metadata": {},
   "outputs": [
    {
     "data": {
      "text/plain": [
       "array([ 1.96  ,  1.8424, 71.6576, 75.3424])"
      ]
     },
     "execution_count": 9,
     "metadata": {},
     "output_type": "execute_result"
    }
   ],
   "source": [
    "np.round([zq, me, lb, ub], 4)"
   ]
  },
  {
   "cell_type": "code",
   "execution_count": 12,
   "metadata": {},
   "outputs": [],
   "source": [
    "def onesamplez(n, mean, sigma, mu=0, alt='two', conf_level=0.95):\n",
    "    import scipy\n",
    "    sem = sigma/np.sqrt(n)\n",
    "    zstat = (mean-mu)/sem\n",
    "    alpha = 1-conf_level\n",
    "    \n",
    "    if alt=='less':\n",
    "        pval = scipy.stats.norm.cdf(zstat)\n",
    "        H1 = ''\n",
    "        \n",
    "    if alt=='less':\n",
    "        pval= scipy.stats.norm.cdf(zstat)\n",
    "        H1 = 'H1:mu<'+str(mu)\n",
    "    elif alt=='greater':\n",
    "        pval=1-scipy.stats.norm.cdf(zstat)\n",
    "        H1 = 'H1:mu>'+str(mu)\n",
    "    else:\n",
    "        pval=2*scipy.stats.norm.cdf(-abs(zstat))\n",
    "        H1 = 'H1:mu<>'+str(mu)\n",
    "\n",
    "    me = scipy.stats.norm.ppf(1-alpha/2)*sem\n",
    "    lb = mean - me\n",
    "    ub = mean + me\n",
    "    \n",
    "    return pd.DataFrame(\n",
    "            [[n, mean, sigma, sem, zstat, pval, me, lb, ub, alpha]],\n",
    "            columns=['n','mean','sigma',' sem','zstat','pval','me','lb','ub','alpha'],index=[H1])"
   ]
  },
  {
   "cell_type": "code",
   "execution_count": 13,
   "metadata": {},
   "outputs": [
    {
     "data": {
      "text/html": [
       "<div>\n",
       "<style scoped>\n",
       "    .dataframe tbody tr th:only-of-type {\n",
       "        vertical-align: middle;\n",
       "    }\n",
       "\n",
       "    .dataframe tbody tr th {\n",
       "        vertical-align: top;\n",
       "    }\n",
       "\n",
       "    .dataframe thead th {\n",
       "        text-align: right;\n",
       "    }\n",
       "</style>\n",
       "<table border=\"1\" class=\"dataframe\">\n",
       "  <thead>\n",
       "    <tr style=\"text-align: right;\">\n",
       "      <th></th>\n",
       "      <th>H1:mu&lt;75</th>\n",
       "    </tr>\n",
       "  </thead>\n",
       "  <tbody>\n",
       "    <tr>\n",
       "      <td>n</td>\n",
       "      <td>100.000000</td>\n",
       "    </tr>\n",
       "    <tr>\n",
       "      <td>mean</td>\n",
       "      <td>73.500000</td>\n",
       "    </tr>\n",
       "    <tr>\n",
       "      <td>sigma</td>\n",
       "      <td>9.400000</td>\n",
       "    </tr>\n",
       "    <tr>\n",
       "      <td>sem</td>\n",
       "      <td>0.940000</td>\n",
       "    </tr>\n",
       "    <tr>\n",
       "      <td>zstat</td>\n",
       "      <td>-1.595745</td>\n",
       "    </tr>\n",
       "    <tr>\n",
       "      <td>pval</td>\n",
       "      <td>0.055273</td>\n",
       "    </tr>\n",
       "    <tr>\n",
       "      <td>me</td>\n",
       "      <td>1.842366</td>\n",
       "    </tr>\n",
       "    <tr>\n",
       "      <td>lb</td>\n",
       "      <td>71.657634</td>\n",
       "    </tr>\n",
       "    <tr>\n",
       "      <td>ub</td>\n",
       "      <td>75.342366</td>\n",
       "    </tr>\n",
       "    <tr>\n",
       "      <td>alpha</td>\n",
       "      <td>0.050000</td>\n",
       "    </tr>\n",
       "  </tbody>\n",
       "</table>\n",
       "</div>"
      ],
      "text/plain": [
       "         H1:mu<75\n",
       "n      100.000000\n",
       "mean    73.500000\n",
       "sigma    9.400000\n",
       " sem     0.940000\n",
       "zstat   -1.595745\n",
       "pval     0.055273\n",
       "me       1.842366\n",
       "lb      71.657634\n",
       "ub      75.342366\n",
       "alpha    0.050000"
      ]
     },
     "execution_count": 13,
     "metadata": {},
     "output_type": "execute_result"
    }
   ],
   "source": [
    "onesamplez(100, mean=73.5, sigma=9.4, mu=75, alt='less').T"
   ]
  },
  {
   "cell_type": "markdown",
   "metadata": {},
   "source": [
    "## 일표본 t-검정(Python) 예제"
   ]
  },
  {
   "cell_type": "code",
   "execution_count": 15,
   "metadata": {},
   "outputs": [
    {
     "data": {
      "text/plain": [
       "0    251\n",
       "1    264\n",
       "2    234\n",
       "3    283\n",
       "4    226\n",
       "dtype: int64"
      ]
     },
     "execution_count": 15,
     "metadata": {},
     "output_type": "execute_result"
    }
   ],
   "source": [
    "## 임신 기간! 의사 견해는 266일\n",
    "\n",
    "pdays = pd.Series([\n",
    "251,264,234,283,226,244,269,241,276,274,\n",
    "263,243,254,276,241,232,260,248,284,253,\n",
    "265,235,259,279,256,256,254,256,250,269,\n",
    "240,261,263,262,259,230,268,284,259,261,\n",
    "268,268,264,271,263,259,294,259,263,278,\n",
    "267,293,247,244,250,266,286,263,274,253,\n",
    "281,286,266,249,255,233,245,266,265,264\n",
    "])\n",
    "pdays.head()"
   ]
  },
  {
   "cell_type": "code",
   "execution_count": 16,
   "metadata": {},
   "outputs": [
    {
     "data": {
      "text/plain": [
       "<function matplotlib.pyplot.show(*args, **kw)>"
      ]
     },
     "execution_count": 16,
     "metadata": {},
     "output_type": "execute_result"
    },
    {
     "data": {
      "image/png": "[encoded data removed]",
      "text/plain": [
       "<Figure size 432x288 with 1 Axes>"
      ]
     },
     "metadata": {
      "needs_background": "light"
     },
     "output_type": "display_data"
    }
   ],
   "source": [
    "sns.boxplot(x=pdays);\n",
    "plt.show "
   ]
  },
  {
   "cell_type": "code",
   "execution_count": 17,
   "metadata": {},
   "outputs": [
    {
     "data": {
      "image/png": "[encoded data removed]",
      "text/plain": [
       "<Figure size 432x288 with 1 Axes>"
      ]
     },
     "metadata": {
      "needs_background": "light"
     },
     "output_type": "display_data"
    }
   ],
   "source": [
    "plt.boxplot(pdays);\n",
    "plt.show()"
   ]
  },
  {
   "cell_type": "code",
   "execution_count": 18,
   "metadata": {},
   "outputs": [
    {
     "data": {
      "text/plain": [
       "count     70.000000\n",
       "mean     260.314286\n",
       "std       15.257731\n",
       "min      226.000000\n",
       "25%      250.250000\n",
       "50%      261.500000\n",
       "75%      268.000000\n",
       "max      294.000000\n",
       "dtype: float64"
      ]
     },
     "execution_count": 18,
     "metadata": {},
     "output_type": "execute_result"
    }
   ],
   "source": [
    "pdays.describe()"
   ]
  },
  {
   "cell_type": "code",
   "execution_count": 20,
   "metadata": {},
   "outputs": [
    {
     "data": {
      "text/plain": [
       "Ttest_1sampResult(statistic=-3.1177702526642075, pvalue=0.002657214072817427)"
      ]
     },
     "execution_count": 20,
     "metadata": {},
     "output_type": "execute_result"
    }
   ],
   "source": [
    "#scipy.stats.ttest_1samp(a:array, popmean, axis, nan_policy)\n",
    "#한 집단 평균 차이 검정\n",
    "scipy.stats.ttest_1samp(pdays, 266)"
   ]
  },
  {
   "cell_type": "code",
   "execution_count": 21,
   "metadata": {},
   "outputs": [
    {
     "name": "stdout",
     "output_type": "stream",
     "text": [
      "tstat = -3.118, Pr>|T|= 0.0027\n"
     ]
    }
   ],
   "source": [
    "# Using scipy.stats\n",
    "print('tstat = %6.3f, Pr>|T|= %6.4f' %stats.ttest_1samp( a=pdays, popmean=266))"
   ]
  },
  {
   "cell_type": "code",
   "execution_count": null,
   "metadata": {},
   "outputs": [],
   "source": []
  }
 ],
 "metadata": {
  "kernelspec": {
   "display_name": "Python 3",
   "language": "python",
   "name": "python3"
  },
  "language_info": {
   "codemirror_mode": {
    "name": "ipython",
    "version": 3
   },
   "file_extension": ".py",
   "mimetype": "text/x-python",
   "name": "python",
   "nbconvert_exporter": "python",
   "pygments_lexer": "ipython3",
   "version": "3.7.4"
  }
 },
 "nbformat": 4,
 "nbformat_minor": 2
}
